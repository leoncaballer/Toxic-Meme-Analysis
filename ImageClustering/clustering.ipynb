{
 "cells": [
  {
   "cell_type": "code",
   "execution_count": 1,
   "metadata": {},
   "outputs": [
    {
     "data": {
      "text/plain": [
       "True"
      ]
     },
     "execution_count": 1,
     "metadata": {},
     "output_type": "execute_result"
    }
   ],
   "source": [
    "from dotenv import load_dotenv\n",
    "import fiftyone as fo\n",
    "import fiftyone.brain as fob\n",
    "import fiftyone.zoo as foz\n",
    "from fiftyone import ViewField as F\n",
    "\n",
    "load_dotenv()"
   ]
  },
  {
   "cell_type": "code",
   "execution_count": 2,
   "metadata": {},
   "outputs": [
    {
     "name": "stdout",
     "output_type": "stream",
     "text": [
      " 100% |███████████████| 1530/1530 [182.7ms elapsed, 0s remaining, 8.5K samples/s]   \n"
     ]
    }
   ],
   "source": [
    "dataset_dir = \"/workspaces/Toxic-Meme-Analysis/ImageClustering/combined_images\"\n",
    "\n",
    "# Create the dataset\n",
    "dataset = fo.Dataset.from_dir(\n",
    "    dataset_dir=dataset_dir,\n",
    "    dataset_type=fo.types.ImageDirectory,\n",
    ")"
   ]
  },
  {
   "cell_type": "code",
   "execution_count": 3,
   "metadata": {},
   "outputs": [
    {
     "name": "stdout",
     "output_type": "stream",
     "text": [
      "Session launched. Run `session.show()` to open the App in a cell output.\n"
     ]
    },
    {
     "data": {
      "text/plain": [
       "'http://0.0.0.0:5151/'"
      ]
     },
     "execution_count": 3,
     "metadata": {},
     "output_type": "execute_result"
    }
   ],
   "source": [
    "dataset.select_fields().keep_fields()\n",
    "# launch the app to visualize the dataset\n",
    "session = fo.launch_app(dataset, auto=False)\n",
    "session.url"
   ]
  },
  {
   "cell_type": "code",
   "execution_count": 4,
   "metadata": {},
   "outputs": [
    {
     "name": "stdout",
     "output_type": "stream",
     "text": [
      "Computing embeddings...\n",
      "Batch: 67407ceaf555d9b3a6e7fb2f - 67407ceaf555d9b3a6e7fb38                        \n",
      "Error: cannot identify image file '/workspaces/Toxic-Meme-Analysis/ImageClustering/combined_images/332.png'\n",
      "\n",
      " 100% |███████████████| 1530/1530 [2.1m elapsed, 0s remaining, 12.7 samples/s]      \n",
      "Generating visualization...\n"
     ]
    }
   ],
   "source": [
    "res = fob.compute_visualization(\n",
    "    dataset, \n",
    "    model=\"clip-vit-base32-torch\", \n",
    "    embeddings=\"clip_embeddings\", \n",
    "    method=\"pca\", \n",
    "    brain_key=\"clip_vis\", \n",
    "    batch_size=10\n",
    ")\n",
    "dataset.set_values(\"clip_umap\", res.current_points)"
   ]
  }
 ],
 "metadata": {
  "kernelspec": {
   "display_name": "Python 3",
   "language": "python",
   "name": "python3"
  },
  "language_info": {
   "codemirror_mode": {
    "name": "ipython",
    "version": 3
   },
   "file_extension": ".py",
   "mimetype": "text/x-python",
   "name": "python",
   "nbconvert_exporter": "python",
   "pygments_lexer": "ipython3",
   "version": "3.12.1"
  }
 },
 "nbformat": 4,
 "nbformat_minor": 2
}
